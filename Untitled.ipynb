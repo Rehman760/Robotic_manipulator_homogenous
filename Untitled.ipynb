{
 "cells": [
  {
   "cell_type": "code",
   "execution_count": 1,
   "id": "eb4c1202",
   "metadata": {},
   "outputs": [],
   "source": [
    "import numpy as np\n",
    "a1=1\n",
    "a2=1\n",
    "a3=1\n",
    "a4=1\n",
    "\n",
    "t1=0\n",
    "t2=90\n"
   ]
  },
  {
   "cell_type": "code",
   "execution_count": 5,
   "id": "fe5cd80d",
   "metadata": {},
   "outputs": [],
   "source": [
    "R0_1=[[np.cos(t1),-np.sin(t1),0],[np.sin(t1),np.cos(t1),0],[0,0,1]]\n",
    "\n",
    "R0_2=[[np.cos(t1),-np.sin(t2),0],[np.sin(t2),np.cos(t2),0],[0,0,1]]"
   ]
  },
  {
   "cell_type": "code",
   "execution_count": 6,
   "id": "2d5037ef",
   "metadata": {},
   "outputs": [],
   "source": [
    "d0_1=[[a2*np.cos(t1)],[a2*np.sin(t1)],[a1]]\n",
    "d0_2=[[a4*np.cos(t2)],[a2*np.sin(t2)],[a3]]\n"
   ]
  },
  {
   "cell_type": "code",
   "execution_count": 8,
   "id": "cccbc913",
   "metadata": {},
   "outputs": [],
   "source": [
    "H0_1=np.concatenate((R0_1,d0_1),1)\n",
    "H0_1=np.concatenate((H0_1,[[0,0,0,1]]),0)\n",
    "\n",
    "H1_2=np.concatenate((R0_2,d0_2),1)\n",
    "H1_2=np.concatenate((H1_2,[[0,0,0,1]]),0)\n"
   ]
  },
  {
   "cell_type": "code",
   "execution_count": 10,
   "id": "457036eb",
   "metadata": {},
   "outputs": [
    {
     "name": "stdout",
     "output_type": "stream",
     "text": [
      "H0_2\n"
     ]
    },
    {
     "data": {
      "text/plain": [
       "matrix([[ 1.        , -0.89399666,  0.        ,  0.55192638],\n",
       "        [ 0.89399666, -0.44807362,  0.        ,  0.89399666],\n",
       "        [ 0.        ,  0.        ,  1.        ,  2.        ],\n",
       "        [ 0.        ,  0.        ,  0.        ,  1.        ]])"
      ]
     },
     "execution_count": 10,
     "metadata": {},
     "output_type": "execute_result"
    }
   ],
   "source": [
    "H0_2=np.dot(H0_1,H1_2)\n",
    "print(\"H0_2\")\n",
    "np.matrix(H0_2)"
   ]
  },
  {
   "cell_type": "code",
   "execution_count": null,
   "id": "d9c972b1",
   "metadata": {},
   "outputs": [],
   "source": []
  }
 ],
 "metadata": {
  "kernelspec": {
   "display_name": "Python 3 (ipykernel)",
   "language": "python",
   "name": "python3"
  },
  "language_info": {
   "codemirror_mode": {
    "name": "ipython",
    "version": 3
   },
   "file_extension": ".py",
   "mimetype": "text/x-python",
   "name": "python",
   "nbconvert_exporter": "python",
   "pygments_lexer": "ipython3",
   "version": "3.9.7"
  }
 },
 "nbformat": 4,
 "nbformat_minor": 5
}
